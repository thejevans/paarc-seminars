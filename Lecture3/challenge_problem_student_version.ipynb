{
 "cells": [
  {
   "cell_type": "code",
   "execution_count": null,
   "metadata": {},
   "outputs": [],
   "source": [
    "import numpy as np\n",
    "from math import sqrt\n",
    "import numpy as np\n",
    "%matplotlib inline\n",
    "import matplotlib.pyplot as plt"
   ]
  },
  {
   "cell_type": "markdown",
   "metadata": {},
   "source": [
    "Welcome to your projectile motion challenge problem! Here you'll write code that will plot the trajectory of a projectile in ideal conditions, with the standard assumptions of no air resistance and constant gravitational acceleration. You'll use the path-length function you created earlier to compare the total distance traveled in the air by the projectile for different launch angles and launch velocities.\n",
    "\n",
    "We'll track the projectile's position using an $xy$ coordinate system. It is launched from position (0,0) with launch angle $\\theta$ above the positive $x$ axis, launch speed $v_0$, and gravitational acceleration $g$ in the $-y$ direction. We'll use a time coordinate $t$ to specify the time since launch.\n",
    "\n",
    "First, in the cell below, **write functions that return x position and y position when passed values of $t$, $v_0$, $\\theta$, and $g$**. Assume the angle is passed in units of radians. \n",
    "\n",
    "*Hint*: You can treat the x and y directions separately. For example, the equation of motion for the x-coordinate is \n",
    "\n",
    "$$x = v_{0x} t$$\n",
    "\n",
    "where $v_{0x}$ is the x-component of initial velocity vector. How do you compute $v_{0x}$ given $v_0$ and $\\theta$?"
   ]
  },
  {
   "cell_type": "code",
   "execution_count": null,
   "metadata": {},
   "outputs": [],
   "source": [
    "# your code here"
   ]
  },
  {
   "cell_type": "markdown",
   "metadata": {},
   "source": [
    "**Now write a function that returns the total time the projectile will stay in the air** (which means return to $y = 0$), in units of seconds, given $v_0$ (with units m /s), $\\theta$ (in radians) , and $g$ (with units m / s$^2$). \n",
    "\n",
    "*Hint*: the equation of motion along y-direction is \n",
    "\n",
    "$$y = v_{0y}t - \\frac{1}{2}gt^2$$\n",
    "\n",
    "When $y = 0$, $t$ either equals $0$, or\n",
    "\n",
    "$$t = t_f = \\frac{2v_y}{g}$$\n",
    "\n",
    "where $t_f$ represents the time the projectile will stay in the air."
   ]
  },
  {
   "cell_type": "code",
   "execution_count": null,
   "metadata": {},
   "outputs": [],
   "source": [
    "# your code here"
   ]
  },
  {
   "cell_type": "markdown",
   "metadata": {},
   "source": [
    "In the cell below, **make a plot of a projectile trajectory** when $g$ = 9.8 m/$s^2$ in the -y direction, $v_0$ is 100 m/s, and $\\theta$ is 45 degrees ($\\pi$/4 radians). \n",
    "\n",
    "To do this, you might find the following steps helpful:\n",
    "\n",
    "First, create an array of time values linearly spaced between 0 and $t_f$. You get to choose the number of time values. A reasonable choice might be 128, but you can see what happens if you use more or less than that.\n",
    "\n",
    "You'll be recording the $x$ and $y$ positions of the particle at each time, so you'll need arrays for those, too.\n",
    "\n",
    "Loop through the time values and determine the value of $x$ and $y$ at each time.\n",
    "\n",
    "Then plot $y$ vs $x$.\n"
   ]
  },
  {
   "cell_type": "markdown",
   "metadata": {},
   "source": [
    "$\\textit{Recall}:$ $\\theta_{radians} = \\frac{\\theta_{degree}\\pi}{180}$"
   ]
  },
  {
   "cell_type": "code",
   "execution_count": null,
   "metadata": {},
   "outputs": [],
   "source": [
    "plt.close() # leave this here. it makes sure that if you run this cell again, the plot appears below\n",
    "\n",
    "# parameters    \n",
    "\n",
    "# calculate the trajectory\n",
    "    \n",
    "# plot-don't forget to label your axes!\n"
   ]
  },
  {
   "cell_type": "markdown",
   "metadata": {},
   "source": [
    "Next, let's see what happens when we change the launch angle. **Make the same plot as above, but for several different values of the launch angle $\\theta$, all displayed together in a single plot.** For example, you could use 9 angles linearly spaced between 5 and 85 degrees. Plot all the trajectories on the same graph in the cell below.\n",
    "\n",
    "Once you've done that, **save the trajectory information for later.** In the same loop that you're using to make the plot, save the $x$ and $y$ values for each value of theta, using `np.save()`. Give them descriptive names that include the value of theta so that you can retrieve them later.\n",
    "\n"
   ]
  },
  {
   "cell_type": "code",
   "execution_count": null,
   "metadata": {},
   "outputs": [],
   "source": [
    "plt.close() # keep this here\n",
    "\n",
    "# your code here\n"
   ]
  },
  {
   "cell_type": "markdown",
   "metadata": {},
   "source": [
    "Now we want to estimate the total distance traveled by the projectile in the air. You've already written a path-length function. **Rewrite the path-length function (and any helper functions) into the cell below.**"
   ]
  },
  {
   "cell_type": "code",
   "execution_count": null,
   "metadata": {},
   "outputs": [],
   "source": [
    "# your code here"
   ]
  },
  {
   "cell_type": "markdown",
   "metadata": {},
   "source": [
    "Loop through the launch angles again, load the trajectories, and determine the total distance traveled in the air for each angle. **Plot these distances versus launch angle.** "
   ]
  },
  {
   "cell_type": "code",
   "execution_count": null,
   "metadata": {},
   "outputs": [],
   "source": [
    "plt.close()\n",
    "\n",
    "# your code here"
   ]
  },
  {
   "cell_type": "markdown",
   "metadata": {},
   "source": [
    "What is determining the shape of that curve you just made? How do you think this will change if you used different launch speeds or gravitational accelerations? Experiment! What other interesting relations can you find?"
   ]
  }
 ],
 "metadata": {
  "kernelspec": {
   "display_name": "Python 3",
   "language": "python",
   "name": "python3"
  },
  "language_info": {
   "codemirror_mode": {
    "name": "ipython",
    "version": 3
   },
   "file_extension": ".py",
   "mimetype": "text/x-python",
   "name": "python",
   "nbconvert_exporter": "python",
   "pygments_lexer": "ipython3",
   "version": "3.6.6"
  }
 },
 "nbformat": 4,
 "nbformat_minor": 2
}
