{
 "cells": [
  {
   "cell_type": "markdown",
   "metadata": {},
   "source": [
    "## Review from the previous seminars\n",
    "In Seminar 3, we learned how to use the `numpy` module, how to make our own functions, and how to import and export data. Below is a quick review before we move on to Seminar 4."
   ]
  },
  {
   "cell_type": "markdown",
   "metadata": {},
   "source": [
    "Remember, to use the `numpy` module, first it must be imported:"
   ]
  },
  {
   "cell_type": "code",
   "execution_count": 2,
   "metadata": {},
   "outputs": [],
   "source": [
    "import numpy as np"
   ]
  },
  {
   "cell_type": "markdown",
   "metadata": {},
   "source": [
    "You can do a lot with the `numpy` module. Below is an example to jog your memory:"
   ]
  },
  {
   "cell_type": "code",
   "execution_count": 3,
   "metadata": {},
   "outputs": [
    {
     "data": {
      "text/plain": [
       "array([ 0.,  1.,  2.,  3.,  4.,  5.,  6.,  7.,  8.,  9., 10.])"
      ]
     },
     "execution_count": 3,
     "metadata": {},
     "output_type": "execute_result"
    }
   ],
   "source": [
    "np.linspace(0,10,11)"
   ]
  },
  {
   "cell_type": "markdown",
   "metadata": {},
   "source": [
    "Do you remember loops? Here are some examples of `while` and `for` loops to make an array of 10 numbers. Let's have each element be increased by 2 compared with the previous element. Let's also have the first element of the array be 1.\n",
    "\n",
    "`while` loop:"
   ]
  },
  {
   "cell_type": "code",
   "execution_count": 14,
   "metadata": {},
   "outputs": [
    {
     "name": "stdout",
     "output_type": "stream",
     "text": [
      "while loop: my_array = array([ 1.,  3.,  5.,  7.,  9., 11., 13., 15., 17., 19.])\n"
     ]
    }
   ],
   "source": [
    "# let's intialize the array as empty (garbage data)\n",
    "my_array = np.empty(10)\n",
    "\n",
    "# next, let's define the first element of the array\n",
    "my_array[0] = 1\n",
    "\n",
    "i = 1  # with the first element defined, we can calculate the rest of the sequence beginning with the 2nd element\n",
    "while i < len(my_array):\n",
    "    my_array[i] = my_array[i - 1] + 2\n",
    "    i += 1  # the same as i = i + 1\n",
    "\n",
    "# this is called an 'f-string'. it's a very compact way to format text\n",
    "print(f'while loop: {my_array = }')"
   ]
  },
  {
   "cell_type": "markdown",
   "metadata": {},
   "source": [
    "`for` loop:"
   ]
  },
  {
   "cell_type": "code",
   "execution_count": 21,
   "metadata": {},
   "outputs": [
    {
     "name": "stdout",
     "output_type": "stream",
     "text": [
      "for loop: my_array2 = array([ 1.,  3.,  5.,  7.,  9., 11., 13., 15., 17., 19.])\n"
     ]
    }
   ],
   "source": [
    "my_array2 = np.empty(10)\n",
    "\n",
    "# noticing a pattern in our array, we can use the same operation on every item to generate the same array\n",
    "# without having to reference preivous items.\n",
    "for i in range(len(my_array2)):\n",
    "    my_array2[i] = i * 2 + 1\n",
    "    \n",
    "print(f'for loop: {my_array2 = }')"
   ]
  },
  {
   "cell_type": "markdown",
   "metadata": {},
   "source": [
    "Bonus single line options!"
   ]
  },
  {
   "cell_type": "code",
   "execution_count": 19,
   "metadata": {},
   "outputs": [
    {
     "name": "stdout",
     "output_type": "stream",
     "text": [
      "list comp: my_array3 = array([ 1,  3,  5,  7,  9, 11, 13, 15, 17, 19])\n",
      "direct:    my_array4 = array([ 1,  3,  5,  7,  9, 11, 13, 15, 17, 19])\n"
     ]
    }
   ],
   "source": [
    "# use a 'list comprehension' to generate a list, then turn it into an array\n",
    "# 'list comprehesions' are special for loops that are slightly faster to compute and to type!\n",
    "my_array3 = np.array([i * 2 + 1 for i in range(10)])\n",
    "print(f'list comp: {my_array3 = }')\n",
    "\n",
    "# use the math from above directly on a generated array. even faster!\n",
    "my_array4 = np.arange(10) * 2 + 1\n",
    "print(f'direct:    {my_array4 = }')"
   ]
  },
  {
   "cell_type": "markdown",
   "metadata": {},
   "source": [
    "There's your quick review of `numpy` and loops. Now we can move on to the content of Seminar 4."
   ]
  },
  {
   "cell_type": "markdown",
   "metadata": {},
   "source": [
    "## A. Data Exploration\n",
    "One of the most common tasks in experimental physics is trying to model experimental data with a function. This lecture will walk through how to accomplish this with python. First, let's import some data."
   ]
  },
  {
   "cell_type": "code",
   "execution_count": 43,
   "metadata": {},
   "outputs": [
    {
     "name": "stdout",
     "output_type": "stream",
     "text": [
      "x_data = array([0.549626, 0.946   , 0.8987  , 0.8514  , 0.8041  , 0.7568  ,\n",
      "       0.7095  , 0.6622  , 0.6149  , 0.5676  , 0.5203  , 0.68112 ,\n",
      "       0.64328 , 0.73788 , 0.58652 ])\n",
      "y_data = array([ 272.,   32.,   50.,   50.,  150.,  733., 3126., 5413., 2125.,\n",
      "        368.,  391., 5009., 4478., 1516.,  539.])\n"
     ]
    }
   ],
   "source": [
    "data_filename = \"https://raw.githubusercontent.com/astroumd/GradMap/master/notebooks/Lectures2021/Lecture3/Data/photopeak.txt\"\n",
    "x_data, y_data = np.loadtxt(data_filename, usecols=(0, 1), unpack=True)\n",
    "print(f'{x_data = }')\n",
    "print(f'{y_data = }')"
   ]
  },
  {
   "cell_type": "markdown",
   "metadata": {},
   "source": [
    "It's always a good idea to play around with data to get a feel for it. Let's try a few things!"
   ]
  },
  {
   "cell_type": "code",
   "execution_count": 74,
   "metadata": {},
   "outputs": [
    {
     "name": "stdout",
     "output_type": "stream",
     "text": [
      "np.mean(x_data) = 0.7019950666666668\n",
      "np.mean(y_data) = 1616.8\n",
      "\n"
     ]
    }
   ],
   "source": [
    "# Numpy has some functions built in that can give you some idea of what you're looking at\n",
    "\n",
    "# np.mean: mean value of elements in an array\n",
    "print(f'{np.mean(x_data) = }')\n",
    "print(f'{np.mean(y_data) = }\\n')\n",
    "\n",
    "# np.std: standard deviation of elements in array\n",
    "#print(f'{np.std(x_data) = }')\n",
    "#print(f'{np.std(y_data) = }\\n')\n",
    "\n",
    "# np.diff: difference between adjacent elements in an array\n",
    "#print(f'{np.diff(x_data) = }')\n",
    "#print(f'{np.diff(y_data) = }\\n')\n",
    "\n",
    "# np.argsort: array of indicies in sorted order for an array\n",
    "#sorted_indicies = np.argsort(x_data)\n",
    "#print(f'{sorted_indicies = }\\n')\n",
    "\n",
    "# diff now with sorted indicies\n",
    "#print(f'{np.diff(x_data[sorted_indicies]) = }')\n",
    "#print(f'{np.diff(y_data[sorted_indicies]) = }')"
   ]
  },
  {
   "cell_type": "markdown",
   "metadata": {},
   "source": [
    "Let's plot it to see what it looks like!\n",
    "\n",
    "Quick review of Seminar 2: In python there are multiple plotting libraries, but the moset common one is `matplotlib`, and that is the one we will be using today. The plots in Seminar 2 were primarily for presenting information to others. The plots we will be making today will be primarily for exploration and for sanity checks, so we don't need to take the time to make them pretty."
   ]
  },
  {
   "cell_type": "code",
   "execution_count": 66,
   "metadata": {},
   "outputs": [
    {
     "data": {
      "image/png": "[encoded data removed]",
      "text/plain": [
       "<Figure size 432x288 with 1 Axes>"
      ]
     },
     "metadata": {
      "needs_background": "light"
     },
     "output_type": "display_data"
    },
    {
     "data": {
      "image/png": "[encoded data removed]",
      "text/plain": [
       "<Figure size 432x288 with 1 Axes>"
      ]
     },
     "metadata": {
      "needs_background": "light"
     },
     "output_type": "display_data"
    }
   ],
   "source": [
    "# Import the matplotlib package. Really, we only need the pyplot sub-package, so we import it this way.\n",
    "# Renaming it to 'plt' is common practice.\n",
    "import matplotlib.pyplot as plt\n",
    "%matplotlib inline\n",
    "\n",
    "# To start, lets histogram the data on both axes. This is often a useful tool to get more visual information\n",
    "# For the x-axis:\n",
    "plt.hist(x_data)\n",
    "\n",
    "# When you are ready to produce a plot after building it,\n",
    "# this line tells python that you want do display the plot you defined.\n",
    "plt.show()\n",
    "\n",
    "# And the y-axis:\n",
    "plt.hist(y_data)\n",
    "plt.show()"
   ]
  },
  {
   "cell_type": "code",
   "execution_count": 68,
   "metadata": {},
   "outputs": [
    {
     "data": {
      "image/png": "[encoded data removed]",
      "text/plain": [
       "<Figure size 432x288 with 1 Axes>"
      ]
     },
     "metadata": {
      "needs_background": "light"
     },
     "output_type": "display_data"
    }
   ],
   "source": [
    "# Scatter plots are useful when you have two-dimensional data like we have here.\n",
    "# The most basic kind of scatter plot you can plot using matplotlib is done like this:\n",
    "plt.scatter(x_data, y_data)\n",
    "plt.show()"
   ]
  },
  {
   "cell_type": "markdown",
   "metadata": {},
   "source": [
    "## B. Fitting Data\n",
    "\n",
    "Usually, you will want to have some theory-based motivation for the function you choose to model some set of data, but for this example, we don't know anything about the data other than the points themselves. In this type of situation, trying to fit a simple function to the data is not a bad first step in trying to understand it. What function do you think might fit this data based on how it looks in the plot?\n",
    "\n",
    "<details>\n",
    "<summary>Answer</summary>\n",
    "It looks like the data is shaped like a normal (gaussian) distribution, so let's try to fit it to that! First, let's define a gaussian function for fitting.\n",
    "    \n",
    "The equation for a Gaussian curve is the following:\n",
    "\n",
    "$f(x) = Ae^{\\frac{-(x-\\mu)^2}{2\\sigma^2}}$\n",
    "\n",
    "where $\\mu$ is the mean and $\\sigma$ is the standard deviation. We also want to be able to scale our function to fit the scale of the data, so we multiply the equation by some amplitude, A.\n",
    "</details>"
   ]
  },
  {
   "cell_type": "code",
   "execution_count": 39,
   "metadata": {},
   "outputs": [],
   "source": [
    "# While not necessary in python, defining datatypes using what are called 'type hints'\n",
    "# has become the norm for modern python. It has a lot of benefits, and if you have time in the future,\n",
    "# you should consider learning to use them.\n",
    "from typing import Union\n",
    "\n",
    "# The docstring in this function is formatted in 'Google style'. 'Numpy style' is another popular way\n",
    "# to write docstrings. Choosing one of these styles and using them for all of your docstrings will\n",
    "# make your code much easier to read and maintain.\n",
    "def gauss(x: Union[float, np.array], mean: float, std: float, amp: float) -> Union[float, np.array]:\n",
    "    \"\"\"A general implementation of a gaussian function.\n",
    "\n",
    "    f(x) = A * e^(-1/2 * ((x-mu)/sigma)^2)\n",
    "    To normalize this function, you would multiply by 1 / (sigma * sqrt(2*pi) * A).\n",
    "\n",
    "    Args:\n",
    "        x: the input for f(x).\n",
    "        mean: the center of the gaussian function (mu).\n",
    "        std: the standard deviation of the gaussian function (sigma).\n",
    "        amp: the scaling amplitude of the gaussian function (A).\n",
    "\n",
    "    Returns:\n",
    "        The value of the gaussian function for a given x.\n",
    "    \"\"\"\n",
    "    return amp * np.exp(-1 / 2 * ((x - mean) / std)**2)\n",
    "\n",
    "\n",
    "# This is what is in the student version:\n",
    "\n",
    "# # Change the body of this function so that is returns the value at x of the gaussian defined by the parameters.\n",
    "# def gauss(x, mean, std, amp):\n",
    "#     \"\"\"Write what the function does here!\"\"\""
   ]
  },
  {
   "cell_type": "code",
   "execution_count": 42,
   "metadata": {},
   "outputs": [
    {
     "data": {
      "image/png": "[encoded data removed]",
      "text/plain": [
       "<Figure size 432x288 with 1 Axes>"
      ]
     },
     "metadata": {
      "needs_background": "light"
     },
     "output_type": "display_data"
    }
   ],
   "source": [
    "plt.scatter(x_data, y_data)\n",
    "plt.show()"
   ]
  },
  {
   "cell_type": "markdown",
   "metadata": {},
   "source": [
    "What values of these parameters do you think will match the data above?"
   ]
  },
  {
   "cell_type": "code",
   "execution_count": 72,
   "metadata": {},
   "outputs": [],
   "source": [
    "mu = 0.67\n",
    "sigma = 0.04\n",
    "amp = 5500\n",
    "\n",
    "\n",
    "# This is what is in the student version:\n",
    "\n",
    "# mu = \n",
    "# sigma = \n",
    "# amp = "
   ]
  },
  {
   "cell_type": "markdown",
   "metadata": {},
   "source": [
    "Let's try plotting the function the function with these parameters next to the data! For this, we should define some evenly-spaced x-values to calculate the function at using `np.linspace`:"
   ]
  },
  {
   "cell_type": "code",
   "execution_count": 73,
   "metadata": {},
   "outputs": [
    {
     "data": {
      "image/png": "[encoded data removed]",
      "text/plain": [
       "<Figure size 432x288 with 1 Axes>"
      ]
     },
     "metadata": {
      "needs_background": "light"
     },
     "output_type": "display_data"
    }
   ],
   "source": [
    "x_points = np.linspace(0.5, 1, 100)\n",
    "\n",
    "plt.plot(x_data, y_data, linestyle='', marker='.', markersize=12) # This line makes the same plot as plt.scatter, but avoids some quirks in matplotlib.\n",
    "# Try replacing this with plt.scatter(x_data, y_data) and see what happens!\n",
    "# plt.scatter(x_data, y_data)\n",
    "\n",
    "y_gauss = gauss(x_points, mu, sigma, amp)\n",
    "plt.plot(x_points, y_gauss)\n",
    "plt.show()\n",
    "\n",
    "\n",
    "# This is what is in the student version:\n",
    "\n",
    "# x_points = # Use np.linspace here.\n",
    "\n",
    "# plt.plot(x_data, y_data, linestyle='', marker='.', markersize=12) # This line makes the same plot as plt.scatter, but avoids some quirks in matplotlib.\n",
    "# # Try replacing this with plt.scatter(x_data, y_data) and see what happens!\n",
    "# # plt.scatter(x_data, y_data)\n",
    "\n",
    "# y_gauss = # Finish this line to get the y-values using the function you made above.\n",
    "# plt.plot(x_points, y_gauss)\n",
    "# plt.show()"
   ]
  },
  {
   "cell_type": "markdown",
   "metadata": {},
   "source": [
    "`plt.plot` is the standard do-it-all plotting function in `matplotlib`. Everything about how the series looks can be modified."
   ]
  },
  {
   "cell_type": "markdown",
   "metadata": {},
   "source": [
    "## C. Goodness-of-fit\n",
    "\n",
    "How good was your guess? How do you even answer that question?\n",
    "\n",
    "<details>\n",
    "<summary>Answer</summary>\n",
    "Let's use something called the \"sum of squared residuals\" ($\\sum_{i = 0}^n ||y_i - f(x_i)||^2$) to get a metric of the difference between our data and our function. This may sound and look fancy, but all it's doing is calculating the distance at each x-value in the data between the data y-value and the function y-value. Then, it squares those distances and adds them all together.\n",
    "\n",
    "This is defined by `np.sum((y_data - y_data_gauss)**2)` for our setup.\n",
    "</details>"
   ]
  },
  {
   "cell_type": "code",
   "execution_count": 81,
   "metadata": {},
   "outputs": [
    {
     "name": "stdout",
     "output_type": "stream",
     "text": [
      "res_sum = 92145169.9069555\n"
     ]
    }
   ],
   "source": [
    "y_data_gauss = gauss(x_data, mu, sigma, amp)\n",
    "res_sum = np.sum((y_data - y_data_gauss)**2)\n",
    "print(f'{res_sum = }')\n",
    "\n",
    "\n",
    "# This is what is in the student version:\n",
    "\n",
    "# y_data_gauss = # Finish this line to get y_gauss at the x_data.\n",
    "# res_sum = # Finish this line to calculate the L_2 norm.\n",
    "# print(f'{res_sum = }')"
   ]
  },
  {
   "cell_type": "markdown",
   "metadata": {},
   "source": [
    "Try changing the parameters to something bad and see what happens to the value of `res_sum`. Since this metric is not normalized by something like a standard deviation of the data, it can't tell us in absolute terms how good our funciton fits, but it can at least tell us if one set of parameters fits better than another. This is really helpful!"
   ]
  },
  {
   "cell_type": "code",
   "execution_count": 82,
   "metadata": {},
   "outputs": [
    {
     "name": "stdout",
     "output_type": "stream",
     "text": [
      "res_sum = 92145169.9069555\n"
     ]
    }
   ],
   "source": [
    "mu = 0.3\n",
    "sigma = 0.1\n",
    "amp = 500\n",
    "\n",
    "res_sum = np.sum((y_data - gauss(x_data, mu, sigma, amp))**2)\n",
    "print(f'{res_sum = }')\n",
    "\n",
    "\n",
    "# This is what is in the student version:\n",
    "\n",
    "# mu = \n",
    "# sigma = \n",
    "# amp = \n",
    "\n",
    "# res_sum = np.sum((y_data - gauss(x_data, mu, sigma, amp))**2)\n",
    "# print(f'{res_sum = }')"
   ]
  },
  {
   "cell_type": "markdown",
   "metadata": {},
   "source": [
    "But, how do we know when we have a best fit? How would you try to figure it out?\n",
    "\n",
    "Thankfully, we don't have to create our own method to do this. The smart people working on the `scipy` package have already built an optimized tool for us to use! It's called the `curve_fit` function as is part of the `scipy.optimize` sub-package."
   ]
  },
  {
   "cell_type": "markdown",
   "metadata": {},
   "source": [
    "## D. Fitting"
   ]
  },
  {
   "cell_type": "code",
   "execution_count": 83,
   "metadata": {},
   "outputs": [],
   "source": [
    "import scipy.optimize"
   ]
  },
  {
   "cell_type": "markdown",
   "metadata": {},
   "source": [
    "`scipy.optimize.curve_fit` is a type of minimization function. In this case, the function finds the parameters of our `gauss` function (`mean`, `std`, `amp`) that minimize the sum of squared residuals between the data points and what our gaussian function thinks the data points should be at a given x.\n",
    "\n",
    "A quick, useful way to see what a function does without having to google it is to use the built-in python `help` function."
   ]
  },
  {
   "cell_type": "code",
   "execution_count": 84,
   "metadata": {},
   "outputs": [
    {
     "name": "stdout",
     "output_type": "stream",
     "text": [
      "Help on function curve_fit in module scipy.optimize.minpack:\n",
      "\n",
      "curve_fit(f, xdata, ydata, p0=None, sigma=None, absolute_sigma=False, check_finite=True, bounds=(-inf, inf), method=None, jac=None, **kwargs)\n",
      "    Use non-linear least squares to fit a function, f, to data.\n",
      "    \n",
      "    Assumes ``ydata = f(xdata, *params) + eps``.\n",
      "    \n",
      "    Parameters\n",
      "    ----------\n",
      "    f : callable\n",
      "        The model function, f(x, ...). It must take the independent\n",
      "        variable as the first argument and the parameters to fit as\n",
      "        separate remaining arguments.\n",
      "    xdata : array_like or object\n",
      "        The independent variable where the data is measured.\n",
      "        Should usually be an M-length sequence or an (k,M)-shaped array for\n",
      "        functions with k predictors, but can actually be any object.\n",
      "    ydata : array_like\n",
      "        The dependent data, a length M array - nominally ``f(xdata, ...)``.\n",
      "    p0 : array_like, optional\n",
      "        Initial guess for the parameters (length N). If None, then the\n",
      "        initial values will all be 1 (if the number of parameters for the\n",
      "        function can be determined using introspection, otherwise a\n",
      "        ValueError is raised).\n",
      "    sigma : None or M-length sequence or MxM array, optional\n",
      "        Determines the uncertainty in `ydata`. If we define residuals as\n",
      "        ``r = ydata - f(xdata, *popt)``, then the interpretation of `sigma`\n",
      "        depends on its number of dimensions:\n",
      "    \n",
      "            - A 1-D `sigma` should contain values of standard deviations of\n",
      "              errors in `ydata`. In this case, the optimized function is\n",
      "              ``chisq = sum((r / sigma) ** 2)``.\n",
      "    \n",
      "            - A 2-D `sigma` should contain the covariance matrix of\n",
      "              errors in `ydata`. In this case, the optimized function is\n",
      "              ``chisq = r.T @ inv(sigma) @ r``.\n",
      "    \n",
      "              .. versionadded:: 0.19\n",
      "    \n",
      "        None (default) is equivalent of 1-D `sigma` filled with ones.\n",
      "    absolute_sigma : bool, optional\n",
      "        If True, `sigma` is used in an absolute sense and the estimated parameter\n",
      "        covariance `pcov` reflects these absolute values.\n",
      "    \n",
      "        If False (default), only the relative magnitudes of the `sigma` values matter.\n",
      "        The returned parameter covariance matrix `pcov` is based on scaling\n",
      "        `sigma` by a constant factor. This constant is set by demanding that the\n",
      "        reduced `chisq` for the optimal parameters `popt` when using the\n",
      "        *scaled* `sigma` equals unity. In other words, `sigma` is scaled to\n",
      "        match the sample variance of the residuals after the fit. Default is False.\n",
      "        Mathematically,\n",
      "        ``pcov(absolute_sigma=False) = pcov(absolute_sigma=True) * chisq(popt)/(M-N)``\n",
      "    check_finite : bool, optional\n",
      "        If True, check that the input arrays do not contain nans of infs,\n",
      "        and raise a ValueError if they do. Setting this parameter to\n",
      "        False may silently produce nonsensical results if the input arrays\n",
      "        do contain nans. Default is True.\n",
      "    bounds : 2-tuple of array_like, optional\n",
      "        Lower and upper bounds on parameters. Defaults to no bounds.\n",
      "        Each element of the tuple must be either an array with the length equal\n",
      "        to the number of parameters, or a scalar (in which case the bound is\n",
      "        taken to be the same for all parameters). Use ``np.inf`` with an\n",
      "        appropriate sign to disable bounds on all or some parameters.\n",
      "    \n",
      "        .. versionadded:: 0.17\n",
      "    method : {'lm', 'trf', 'dogbox'}, optional\n",
      "        Method to use for optimization. See `least_squares` for more details.\n",
      "        Default is 'lm' for unconstrained problems and 'trf' if `bounds` are\n",
      "        provided. The method 'lm' won't work when the number of observations\n",
      "        is less than the number of variables, use 'trf' or 'dogbox' in this\n",
      "        case.\n",
      "    \n",
      "        .. versionadded:: 0.17\n",
      "    jac : callable, string or None, optional\n",
      "        Function with signature ``jac(x, ...)`` which computes the Jacobian\n",
      "        matrix of the model function with respect to parameters as a dense\n",
      "        array_like structure. It will be scaled according to provided `sigma`.\n",
      "        If None (default), the Jacobian will be estimated numerically.\n",
      "        String keywords for 'trf' and 'dogbox' methods can be used to select\n",
      "        a finite difference scheme, see `least_squares`.\n",
      "    \n",
      "        .. versionadded:: 0.18\n",
      "    kwargs\n",
      "        Keyword arguments passed to `leastsq` for ``method='lm'`` or\n",
      "        `least_squares` otherwise.\n",
      "    \n",
      "    Returns\n",
      "    -------\n",
      "    popt : array\n",
      "        Optimal values for the parameters so that the sum of the squared\n",
      "        residuals of ``f(xdata, *popt) - ydata`` is minimized.\n",
      "    pcov : 2-D array\n",
      "        The estimated covariance of popt. The diagonals provide the variance\n",
      "        of the parameter estimate. To compute one standard deviation errors\n",
      "        on the parameters use ``perr = np.sqrt(np.diag(pcov))``.\n",
      "    \n",
      "        How the `sigma` parameter affects the estimated covariance\n",
      "        depends on `absolute_sigma` argument, as described above.\n",
      "    \n",
      "        If the Jacobian matrix at the solution doesn't have a full rank, then\n",
      "        'lm' method returns a matrix filled with ``np.inf``, on the other hand\n",
      "        'trf'  and 'dogbox' methods use Moore-Penrose pseudoinverse to compute\n",
      "        the covariance matrix.\n",
      "    \n",
      "    Raises\n",
      "    ------\n",
      "    ValueError\n",
      "        if either `ydata` or `xdata` contain NaNs, or if incompatible options\n",
      "        are used.\n",
      "    \n",
      "    RuntimeError\n",
      "        if the least-squares minimization fails.\n",
      "    \n",
      "    OptimizeWarning\n",
      "        if covariance of the parameters can not be estimated.\n",
      "    \n",
      "    See Also\n",
      "    --------\n",
      "    least_squares : Minimize the sum of squares of nonlinear functions.\n",
      "    scipy.stats.linregress : Calculate a linear least squares regression for\n",
      "                             two sets of measurements.\n",
      "    \n",
      "    Notes\n",
      "    -----\n",
      "    With ``method='lm'``, the algorithm uses the Levenberg-Marquardt algorithm\n",
      "    through `leastsq`. Note that this algorithm can only deal with\n",
      "    unconstrained problems.\n",
      "    \n",
      "    Box constraints can be handled by methods 'trf' and 'dogbox'. Refer to\n",
      "    the docstring of `least_squares` for more information.\n",
      "    \n",
      "    Examples\n",
      "    --------\n",
      "    >>> import matplotlib.pyplot as plt\n",
      "    >>> from scipy.optimize import curve_fit\n",
      "    \n",
      "    >>> def func(x, a, b, c):\n",
      "    ...     return a * np.exp(-b * x) + c\n",
      "    \n",
      "    Define the data to be fit with some noise:\n",
      "    \n",
      "    >>> xdata = np.linspace(0, 4, 50)\n",
      "    >>> y = func(xdata, 2.5, 1.3, 0.5)\n",
      "    >>> np.random.seed(1729)\n",
      "    >>> y_noise = 0.2 * np.random.normal(size=xdata.size)\n",
      "    >>> ydata = y + y_noise\n",
      "    >>> plt.plot(xdata, ydata, 'b-', label='data')\n",
      "    \n",
      "    Fit for the parameters a, b, c of the function `func`:\n",
      "    \n",
      "    >>> popt, pcov = curve_fit(func, xdata, ydata)\n",
      "    >>> popt\n",
      "    array([ 2.55423706,  1.35190947,  0.47450618])\n",
      "    >>> plt.plot(xdata, func(xdata, *popt), 'r-',\n",
      "    ...          label='fit: a=%5.3f, b=%5.3f, c=%5.3f' % tuple(popt))\n",
      "    \n",
      "    Constrain the optimization to the region of ``0 <= a <= 3``,\n",
      "    ``0 <= b <= 1`` and ``0 <= c <= 0.5``:\n",
      "    \n",
      "    >>> popt, pcov = curve_fit(func, xdata, ydata, bounds=(0, [3., 1., 0.5]))\n",
      "    >>> popt\n",
      "    array([ 2.43708906,  1.        ,  0.35015434])\n",
      "    >>> plt.plot(xdata, func(xdata, *popt), 'g--',\n",
      "    ...          label='fit: a=%5.3f, b=%5.3f, c=%5.3f' % tuple(popt))\n",
      "    \n",
      "    >>> plt.xlabel('x')\n",
      "    >>> plt.ylabel('y')\n",
      "    >>> plt.legend()\n",
      "    >>> plt.show()\n",
      "\n"
     ]
    }
   ],
   "source": [
    "help(scipy.optimize.curve_fit)"
   ]
  },
  {
   "cell_type": "markdown",
   "metadata": {},
   "source": [
    "That gave us a lot of information about the `curve_fit` function! As you can see, `curve_fit` takes a function as its first parameter, and it tells us exactly how to arrange the parameters of that function (thankfully, our `gauss` function should already have this form). The next two parameters `curve_fit` takes are `xdata` and `ydata` (`x_data` and `y_data` as we defined them). The rest are optional and will be talked about briefly at the end of this seminar.\n",
    "\n",
    "Let's try calling help on the `gauss` function we defined above."
   ]
  },
  {
   "cell_type": "code",
   "execution_count": 85,
   "metadata": {},
   "outputs": [
    {
     "name": "stdout",
     "output_type": "stream",
     "text": [
      "Help on function gauss in module __main__:\n",
      "\n",
      "gauss(x: Union[float, <built-in function array>], mean: float, std: float, amp: float) -> Union[float, <built-in function array>]\n",
      "    A general implementation of a gaussian function.\n",
      "    \n",
      "    f(x) = A * e^(-1/2 * ((x-mu)/sigma)^2)\n",
      "    To normalize this function, you would multiply by sigma * sqrt(2*pi)/A.\n",
      "    \n",
      "    Args:\n",
      "        x: the input for f(x).\n",
      "        mean: the center of the gaussian function (mu).\n",
      "        std: the standard deviation of the gaussian function (sigma).\n",
      "        amp: the scaling amplitude of the gaussian function (A).\n",
      "    \n",
      "    Returns:\n",
      "        The amplitude of the gaussian function for a given x.\n",
      "\n"
     ]
    }
   ],
   "source": [
    "help(gauss)\n",
    "\n",
    "\n",
    "# This is what is in the student version:\n",
    "\n",
    "# "
   ]
  },
  {
   "cell_type": "markdown",
   "metadata": {},
   "source": [
    "What do you think the `help` function does?\n",
    "\n",
    "<details>\n",
    "<summary>Answer</summary>\n",
    "You can see help just returns the function \"signature\" and the string at the start of the function (called the \"docstring\").\n",
    "</details>\n",
    "\n",
    "Now, let's use `curve_fit` to fit the data to our function!"
   ]
  },
  {
   "cell_type": "code",
   "execution_count": 86,
   "metadata": {},
   "outputs": [
    {
     "name": "stdout",
     "output_type": "stream",
     "text": [
      "[6.69130766e-01 4.13010233e-02 5.33663054e+03]\n",
      "[[ 1.49349449e-06 -5.34505344e-08  8.46692964e-03]\n",
      " [-5.34505344e-08  1.32738640e-06 -7.24032279e-02]\n",
      " [ 8.46692964e-03 -7.24032279e-02  1.44313779e+04]]\n"
     ]
    }
   ],
   "source": [
    "# The variable names popt and pcov come from the curve_fit function. We will get into what they mean soon!\n",
    "popt, pcov = scipy.optimize.curve_fit(gauss, x_data, y_data)\n",
    "\n",
    "print(popt)\n",
    "print(pcov)"
   ]
  },
  {
   "cell_type": "markdown",
   "metadata": {},
   "source": [
    "Do you know what `popt` is? How would you find out?\n",
    "\n",
    "<details>\n",
    "<summary>Answer</summary>\n",
    "\n",
    "If you look back at the `help` output from `curve_fit`, `popt` is a list of the best-fit parameters of our gauss function for this data. The parameters in the list are in the order that the parameters are listed in our `gauss` function (`mean`, `std`, `amp`). Let's try plotting the data, our guess, and the best fit from `curve_fit`!\n",
    "</details>"
   ]
  },
  {
   "cell_type": "code",
   "execution_count": 87,
   "metadata": {},
   "outputs": [
    {
     "data": {
      "image/png": "[encoded data removed]",
      "text/plain": [
       "<Figure size 432x288 with 1 Axes>"
      ]
     },
     "metadata": {
      "needs_background": "light"
     },
     "output_type": "display_data"
    }
   ],
   "source": [
    "mu = 0.67\n",
    "sigma = 0.04\n",
    "amp = 5500\n",
    "x_points = np.linspace(0.5, 1, 100)\n",
    "plt.plot(x_data, y_data, linestyle='', marker='.', markersize=12, label='data')  # The parameter \"label\" gives a name to the data series.\n",
    "plt.plot(x_points, gauss(x_points, mu, sigma, amp), label='hand-picked parameters')\n",
    "plt.plot(x_points, gauss(x_points, *popt), label='best-fit parameters')  # using \"*popt\" is a nice python trick that expands popt into the three individual values it contains.\n",
    "plt.legend()  # This function produces a legend of the plots and their names.\n",
    "plt.show()\n",
    "\n",
    "\n",
    "# # This is what is in the student version:\n",
    "# x_points = \n",
    "# plt.plot(x_data, y_data, linestyle='', marker='.', markersize=12, label='data')  # The parameter \"label\" gives a name to the data series.\n",
    "\n",
    "# # Try adding labels to these plots!\n",
    "# plt.plot() # Finish this line to plot your hand-picked best-guess parameters from earlier.\n",
    "# plt.plot()  # Finish this line to plot the best fit parameters from curve_fit.\n",
    "\n",
    "# # This function produces a legend of the plots and their labels. You can leave this line as is.\n",
    "# plt.legend()\n",
    "# plt.show()"
   ]
  },
  {
   "cell_type": "markdown",
   "metadata": {},
   "source": [
    "How close was your guess to the best fit?\n",
    "\n",
    "## E. Interpreting Fitting Errors\n",
    "`pcov` is a little more complicated. `pcov` is what's called the \"covariance matrix\" of the best fit parameters. As shown in the `help` output, the standard deviations of the parameters can be recovered from this matrix in the following way: `perr = np.sqrt(np.diag(pcov))`\n",
    "\n",
    "Since we aren't teaching linear algebra here, all of the matrix manipulations will be given to you. All that needs to be taken away from this is how to read this specific matrix."
   ]
  },
  {
   "cell_type": "code",
   "execution_count": 88,
   "metadata": {},
   "outputs": [
    {
     "name": "stdout",
     "output_type": "stream",
     "text": [
      "s_mu = 1.222e-03, s_sigma = 1.152e-03, s_amp = 1.201e+02\n"
     ]
    }
   ],
   "source": [
    "perr = np.sqrt(np.diag(pcov)) # This comes straight from the curve_fit help output.\n",
    "\n",
    "# This is an example of some more complicated string formatting in python.\n",
    "# Each set of {} corresponds to a parameter passed to .format().\n",
    "# .3e means \"format this number in scientific notation with 3 digits after the decimal\".\n",
    "# using \"*perr\" is a nice python trick that expands perr into the three individual values it contains.\n",
    "# All of this is out of the scope of this lecture, but it's good to get exposure to these things.\n",
    "# Just look at how nice the out put looks!\n",
    "print('s_mu = {:.3e}, s_sigma = {:.3e}, s_amp = {:.3e}'.format(*perr))"
   ]
  },
  {
   "cell_type": "markdown",
   "metadata": {},
   "source": [
    "The covariance matrix looks like this for the parameters in our `gauss` function\n",
    "\n",
    "\\begin{bmatrix}\n",
    "s_{\\mu}^2 & cov(\\mu, \\sigma) & cov(\\mu, A)\\\\\n",
    "cov(\\sigma, \\mu) & s_{\\sigma}^2 & cov(\\sigma, A)\\\\\n",
    "cov(A, \\mu) & cov(A, \\sigma) & s_A^2\n",
    "\\end{bmatrix}\n",
    "\n",
    "Where $s_x^2$ is the variance of a parameter $x$ and $s_x$ is its estimated standard deviation, and $cov(x, y)$ is the covariance between parameters $x$ and $y$.\n",
    "\n",
    "Can you guess what `np.sqrt(np.diag(pcov))` does now?\n",
    "\n",
    "Covariance can be difficult to visualize. It's often much easier to look at something called the \"correlation coefficient\" instead. The correlation coefficients can be easily found from the covariance matrix by using this transformation:\n",
    "\n",
    "$cor(x, y) = \\frac{cov(x, y)}{s_x s_y}$\n",
    "\n",
    "Performing this transformation on the covariance matrix gives the correlation matrix, which looks like this:\n",
    "\n",
    "\\begin{bmatrix}\n",
    "1 & cor(\\mu, \\sigma) & cor(\\mu, A)\\\\\n",
    "cor(\\sigma, \\mu) & 1 & cor(\\sigma, A)\\\\\n",
    "cor(A, \\mu) & cor(A, \\sigma) & 1\n",
    "\\end{bmatrix}\n",
    "\n",
    "The code for this is a bit beyond the scope of this lecture, so it has been done for you below."
   ]
  },
  {
   "cell_type": "code",
   "execution_count": 89,
   "metadata": {},
   "outputs": [
    {
     "name": "stdout",
     "output_type": "stream",
     "text": [
      "[[ 1.         -0.03796222  0.05767269]\n",
      " [-0.03796222  1.         -0.52312484]\n",
      " [ 0.05767269 -0.52312484  1.        ]]\n"
     ]
    }
   ],
   "source": [
    "perr_transpose = np.atleast_2d(perr).T\n",
    "pcor = pcov / perr / perr_transpose\n",
    "print(pcor)"
   ]
  },
  {
   "cell_type": "markdown",
   "metadata": {},
   "source": [
    "The correlation coefficients say how related the parameters are (-1 = perfectly anti-correlated, 0 = perfectly uncorrelated, 1 = perfectly correlated). As you can see here, the mean is uncorrelated from both of the other parameters, but the standard deviation and the amplitude are fairly anti-correlated. Any guesses on why this would be?\n",
    "\n",
    "<details>\n",
    "<summary>Answer</summary>\n",
    "\n",
    "As you increase the amplitude, the plot stretches up, moving the curve away from many points in the bell curve. This can be compensated for by reducing the standard deviation, bringing the sides of the bell curve in toward the points. The converse is also true.\n",
    "</details>"
   ]
  },
  {
   "cell_type": "markdown",
   "metadata": {},
   "source": [
    "The type of minimization that `curve_fit` does is called a least-squares fit. To do this least-squares fit, the function uses a numerical method called \"lm\" by default. It's generally a good idea to try to fit using the defaults. Sometimes, this won't work, and you will need to take more steps. The procedure is generally as follows:\n",
    "\n",
    "1. Add bounds and initial guesses to the parameters so that the minimizer knows where to look for the best-fit.\n",
    "1. Add a Jacobian matrix to tell the minimizer how quickly to change the parameters relative to each other.\n",
    "1. Try different metrics to determine goodness-of-fit and/or different minimizers.\n",
    "1. Switch to some form of deterministic machine learning algorithm.\n",
    "1. Switch to a non-deterministic machine learning algorithm.\n",
    "\n",
    "These steps get progressively more complicated and time consuming. Between every step you should be asking yourself whether or not there isn't some better way to formulate your problem."
   ]
  },
  {
   "cell_type": "code",
   "execution_count": null,
   "metadata": {},
   "outputs": [],
   "source": []
  }
 ],
 "metadata": {
  "kernelspec": {
   "display_name": "Python 3",
   "language": "python",
   "name": "python3"
  },
  "language_info": {
   "codemirror_mode": {
    "name": "ipython",
    "version": 3
   },
   "file_extension": ".py",
   "mimetype": "text/x-python",
   "name": "python",
   "nbconvert_exporter": "python",
   "pygments_lexer": "ipython3",
   "version": "3.9.0"
  }
 },
 "nbformat": 4,
 "nbformat_minor": 4
}
